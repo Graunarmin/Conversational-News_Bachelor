{
 "cells": [
  {
   "cell_type": "markdown",
   "metadata": {},
   "source": [
    "# Welche Textsorten stützen sich besonders auf Diskursmarker?"
   ]
  },
  {
   "cell_type": "code",
   "execution_count": 7,
   "metadata": {},
   "outputs": [],
   "source": [
    "import ipywidgets as widgets\n",
    "from IPython.display import display\n",
    "\n",
    "from plots import CreatePlots as cp\n",
    "from helpers import Helpers as hp\n",
    "from datasets import CorpusData as cd\n",
    "from datasets import GenreData as gd\n",
    "from datasets import DiscourseTypeData as dtd"
   ]
  },
  {
   "cell_type": "markdown",
   "metadata": {},
   "source": [
    "## Diskursarten"
   ]
  },
  {
   "cell_type": "code",
   "execution_count": 4,
   "metadata": {},
   "outputs": [],
   "source": [
    "data = cd.CorpusData(\"../../bigData/listenability-tools/datasets/scores/spotify-scores_short.csv\",\n",
    "                     \"../../bigData/listenability-tools/datasets/dict/spotify-dict.json\",\n",
    "                     \"../../bigData/listenability-tools/datasets/scores/ted-scores_short.csv\",\n",
    "                     \"../../bigData/listenability-tools/datasets/dict/ted-dict.json\",\n",
    "                     \"../../bigData/listenability-tools/datasets/scores/nytimes-scores_short.csv\",\n",
    "                     \"../../bigData/listenability-tools/datasets/dict/nytimes-dict.json\",\n",
    "                     \"../../bigData/listenability-tools/datasets/scores/gigaword-scores_short.csv\",\n",
    "                     \"../../bigData/listenability-tools/datasets/dict/gigaword-dict.json\")"
   ]
  },
  {
   "cell_type": "markdown",
   "metadata": {},
   "source": [
    "### Percent of DM per Text"
   ]
  },
  {
   "cell_type": "code",
   "execution_count": 13,
   "metadata": {},
   "outputs": [
    {
     "data": {
      "application/vnd.jupyter.widget-view+json": {
       "model_id": "d524ac63352747e6b2daec8ecddde0f8",
       "version_major": 2,
       "version_minor": 0
      },
      "text/plain": [
       "Canvas(toolbar=Toolbar(toolitems=[('Home', 'Reset original view', 'home', 'home'), ('Back', 'Back to previous …"
      ]
     },
     "metadata": {},
     "output_type": "display_data"
    },
    {
     "name": "stdout",
     "output_type": "stream",
     "text": [
      "Percent Discourse Markers per Text\n",
      "               Min      Mean      Mode         Max\n",
      "names                                             \n",
      "Spotify   3.200000  8.028662  8.000000   13.071895\n",
      "TED       4.663212  8.559530  9.090909   17.985612\n",
      "NYTimes   0.000000  5.675527  0.000000   33.333333\n",
      "Gigaword  0.000000  5.428603  0.000000  100.000000\n",
      "Percent Discourse Markers per Text\n",
      "                 Effectsize  T-Statistic   P-Value\n",
      "Data                                              \n",
      "Spoken, Written    -0.35987    -0.719739  0.494234\n"
     ]
    }
   ],
   "source": [
    "%matplotlib widget\n",
    "dm_count_perc = [data.spotify.get_percent_dm_count_statistics(),\n",
    "                 data.ted.get_percent_dm_count_statistics(),\n",
    "                 data.ny.get_percent_dm_count_statistics(),\n",
    "                 data.gig.get_percent_dm_count_statistics()]\n",
    "\n",
    "cp.plot_vertical_barchart(\"Percent Discourse Markers per Text\",\n",
    "                          dm_count_perc,\n",
    "                          [\"Min\", \"Mean\", \"Mode\", \"Max\"],\n",
    "                          \"Marker Occurrences in %\",\n",
    "                          label_1=\"Spotify\", label_2=\"TED\", label_3=\"NYTimes\", label_4=\"Gigaword\",\n",
    "                          color_1=data.spotify_color, color_2=data.ted_color,\n",
    "                          color_3=data.ny_color, color_4=data.gig_color)\n",
    "\n",
    "hp.show_dataframe(\"Percent Discourse Markers per Text\",\n",
    "                  ['Min', 'Mean', 'Mode', 'Max'],\n",
    "                  dm_count_perc[0], data2=dm_count_perc[1], data3=dm_count_perc[2],\n",
    "                  data4=dm_count_perc[3],\n",
    "                  label1=\"Spotify\", label2=\"TED\",\n",
    "                  label3=\"NYTimes\", label4=\"Gigaword\")\n",
    "\n",
    "hp.effectsize_and_significance(\"Percent Discourse Markers per Text\",\n",
    "                               [dm_count_perc[0] + dm_count_perc[1], dm_count_perc[2] + dm_count_perc[3]],\n",
    "                               [\"Spoken\", \"Written\"])"
   ]
  },
  {
   "cell_type": "markdown",
   "metadata": {},
   "source": [
    "Der p-Wert liegt bei fast 50%, was zeigt, dass die Ergebnisse nicht statistisch signifikant sind - es besteht also kein Unterschied in der Menge der Nutzung von DM zwischen den verschiedenen Diskurstypen."
   ]
  },
  {
   "cell_type": "markdown",
   "metadata": {},
   "source": [
    "### Empirical Distribution Function"
   ]
  },
  {
   "cell_type": "code",
   "execution_count": 12,
   "metadata": {},
   "outputs": [
    {
     "data": {
      "application/vnd.jupyter.widget-view+json": {
       "model_id": "722f1f3179314eb0a9067baf6c81f91d",
       "version_major": 2,
       "version_minor": 0
      },
      "text/plain": [
       "Canvas(toolbar=Toolbar(toolitems=[('Home', 'Reset original view', 'home', 'home'), ('Back', 'Back to previous …"
      ]
     },
     "metadata": {},
     "output_type": "display_data"
    }
   ],
   "source": [
    "%matplotlib widget\n",
    "dm_percents = [data.spotify.get_percent_dm_per_text(),\n",
    "                   data.ted.get_percent_dm_per_text(),\n",
    "                   data.ny.get_percent_dm_per_text(),\n",
    "                   data.gig.get_percent_dm_per_text()]\n",
    "\n",
    "cp.plot_ecdf(dm_percents,\n",
    "                 \"ECDF for % of Discourse Markers per Text\", \"% DM per Text\", \"ECDF (% of Texts)\",\n",
    "                 [\"Spotify\", \"TED\", \"New York Times\", \"Gigaword\"],\n",
    "                 [data.spotify_color, data.ted_color, data.ny_color,\n",
    "                  data.gig_color])"
   ]
  },
  {
   "cell_type": "markdown",
   "metadata": {},
   "source": [
    "## Genres"
   ]
  },
  {
   "cell_type": "code",
   "execution_count": null,
   "metadata": {},
   "outputs": [],
   "source": []
  },
  {
   "cell_type": "markdown",
   "metadata": {},
   "source": [
    "### Percent of DM per Text"
   ]
  },
  {
   "cell_type": "code",
   "execution_count": null,
   "metadata": {},
   "outputs": [],
   "source": []
  },
  {
   "cell_type": "markdown",
   "metadata": {},
   "source": [
    "## Konversationstypen"
   ]
  },
  {
   "cell_type": "code",
   "execution_count": null,
   "metadata": {},
   "outputs": [],
   "source": []
  },
  {
   "cell_type": "markdown",
   "metadata": {},
   "source": [
    "### Percent of DM per Text"
   ]
  }
 ],
 "metadata": {
  "kernelspec": {
   "display_name": "Python 3",
   "language": "python",
   "name": "python3"
  },
  "language_info": {
   "codemirror_mode": {
    "name": "ipython",
    "version": 3
   },
   "file_extension": ".py",
   "mimetype": "text/x-python",
   "name": "python",
   "nbconvert_exporter": "python",
   "pygments_lexer": "ipython3",
   "version": "3.8.5"
  }
 },
 "nbformat": 4,
 "nbformat_minor": 4
}
