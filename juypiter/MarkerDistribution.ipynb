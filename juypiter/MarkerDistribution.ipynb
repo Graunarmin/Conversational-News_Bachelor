{
 "cells": [
  {
   "cell_type": "markdown",
   "metadata": {},
   "source": [
    "# Discoure Marker Distribution"
   ]
  },
  {
   "cell_type": "markdown",
   "metadata": {},
   "source": [
    "### Import Statements"
   ]
  },
  {
   "cell_type": "code",
   "execution_count": 1,
   "metadata": {},
   "outputs": [],
   "source": [
    "import ipywidgets as widgets\n",
    "from IPython.display import display\n",
    "\n",
    "import matplotlib.pyplot as plt\n",
    "import statistics\n",
    "import pandas as pd\n",
    "import numpy as np\n",
    "import ast\n",
    "import json\n",
    "from collections import Counter"
   ]
  },
  {
   "cell_type": "markdown",
   "metadata": {},
   "source": [
    "### Helper functions to compute stuff"
   ]
  },
  {
   "cell_type": "code",
   "execution_count": 2,
   "metadata": {},
   "outputs": [],
   "source": [
    "def compute_statistics(values):\n",
    "    \"\"\"\n",
    "    computes the min, max, arithmetic mean, harmonic mean, median and mode\n",
    "    of an iterable set of values\n",
    "    :param values: the iterable set of values to compute the statistics of.\n",
    "    :return: returns a list with [min, a_mean, h_mean, median, mode, max] values\n",
    "    \"\"\"\n",
    "\n",
    "    min_dm_per_sentence = min(values)\n",
    "    max_dm_per_sentence = max(values)\n",
    "    arith_mean_dm_per_sentence = statistics.mean(values)\n",
    "    harmonic_mean_dem_per_sentence = statistics.harmonic_mean(values)\n",
    "    median_dm_per_sentence = statistics.median(values)\n",
    "    mode_dm_per_sentence = statistics.mode(values)\n",
    "\n",
    "    return [min_dm_per_sentence,\n",
    "            arith_mean_dm_per_sentence, harmonic_mean_dem_per_sentence,\n",
    "            median_dm_per_sentence, mode_dm_per_sentence,\n",
    "            max_dm_per_sentence]\n",
    "\n",
    "\n",
    "def percentage(part, whole):\n",
    "    return (float(part) * 100) / (float(whole))\n",
    "\n",
    "\n",
    "def show_dataframe(data1, data2, data3, data4):\n",
    "    \"\"\"\n",
    "    Prints a pandas dataframe\n",
    "    :param data1:\n",
    "    :param data2:\n",
    "    :param data3:\n",
    "    :param data4:\n",
    "    :return:\n",
    "    \"\"\"\n",
    "    pass\n",
    "\n",
    "\n",
    "def list_all_markers(data1, data2=None, data3=None, data4=None):\n",
    "    markers = data1.get_markers()\n",
    "\n",
    "    if data2 is not None:\n",
    "        for marker in data2.get_markers():\n",
    "            if marker not in markers:\n",
    "                markers.append(marker)\n",
    "\n",
    "    if data3 is not None:\n",
    "        for marker in data3.get_markers():\n",
    "            if marker not in markers:\n",
    "                markers.append(marker)\n",
    "\n",
    "    if data4 is not None:\n",
    "        for marker in data4.get_markers():\n",
    "            if marker not in markers:\n",
    "                markers.append(marker)\n",
    "\n",
    "    return markers"
   ]
  },
  {
   "cell_type": "markdown",
   "metadata": {},
   "source": [
    "### DatasetScores class \n",
    "creates an object of each set of scores an provides functions to retrieve these scores"
   ]
  },
  {
   "cell_type": "code",
   "execution_count": null,
   "metadata": {},
   "outputs": [],
   "source": []
  },
  {
   "cell_type": "code",
   "execution_count": 3,
   "metadata": {},
   "outputs": [],
   "source": [
    "class DatasetScores:\n",
    "\n",
    "    def __init__(self, scorefile, jsonfile):\n",
    "        self.scores = pd.read_csv(scorefile)\n",
    "        self.total_sentences = sum(self.scores['sentence_count_doc'])\n",
    "\n",
    "        with open(jsonfile, 'r', encoding='utf-8') as data_json:\n",
    "            dictionary = json.load(data_json)\n",
    "\n",
    "        self.total_docs = dictionary['stats']['total_docs']\n",
    "        self.total_markers = dictionary['stats']['total_markers']\n",
    "        self.different_markers = dictionary['stats']['different_markers']\n",
    "        self.total_sb = dictionary['stats']['total_sb']\n",
    "        self.total_sm = dictionary['stats']['total_sm']\n",
    "        self.total_se = dictionary['stats']['total_se']\n",
    "        self.total_db = dictionary['stats']['total_db']\n",
    "        self.total_dm = dictionary['stats']['total_dm']\n",
    "        self.total_de = dictionary['stats']['total_de']\n",
    "        self.marker_dict = dictionary['marker']\n",
    "\n",
    "        del dictionary\n",
    "\n",
    "    def get_total_dm_count_statistics(self):\n",
    "        \"\"\"\n",
    "        Computes the min, mean, max of the total number of DM per Text\n",
    "        :return: a list of [min, a_mean, h_mean, median, mode, max] values\n",
    "        \"\"\"\n",
    "        return compute_statistics(self.scores['dm_count_doc'].dropna())\n",
    "\n",
    "    def get_percent_dm_count_statistics(self):\n",
    "        \"\"\"\n",
    "        Computes the min, mean, max of the percentage share that the DM\n",
    "        have in a text\n",
    "        :return: a list of [min, a_mean, h_mean, median, mode, max] values\n",
    "        \"\"\"\n",
    "        return compute_statistics(self.scores['dm_words_perc'].dropna())\n",
    "\n",
    "    def get_total_dm_sentences_statistics(self):\n",
    "        \"\"\"\n",
    "        Computes the min, mean, max of the total number of sentences\n",
    "        that contain at least one DM per Text\n",
    "        :return: a list of [min, a_mean, h_mean, median, mode, max] values\n",
    "        \"\"\"\n",
    "        return compute_statistics(self.scores['dm_sentences'].dropna())\n",
    "\n",
    "    def get_percent_dm_sentences_statistics(self):\n",
    "        \"\"\"\n",
    "        Computes the min, mean, max of the percentage share that sentences\n",
    "        containing at least one DM have of a text\n",
    "        :return:\n",
    "        \"\"\"\n",
    "        return compute_statistics(self.scores['dm_sentences_perc'].dropna())\n",
    "\n",
    "    def get_total_dm_per_sentence_statistics(self):\n",
    "        \"\"\"\n",
    "        Computes the min, mean, max of dm per sentence per text\n",
    "        :return:\n",
    "        \"\"\"\n",
    "        return compute_statistics(self.get_sentence_counts())\n",
    "\n",
    "    def get_total_dm_positions_sentence(self):\n",
    "        \"\"\"\n",
    "        Computes the total number of DM at the beginning, the middle and the end\n",
    "        of a sentence\n",
    "        :return: a list [count_begin, count_middle, count_end]\n",
    "        \"\"\"\n",
    "        return [sum(self.scores['dm_pos_sent_begin'].dropna()),\n",
    "                sum(self.scores['dm_pos_sent_middle'].dropna()),\n",
    "                sum(self.scores['dm_pos_sent_end'].dropna())]\n",
    "\n",
    "    def get_percent_dm_positions_sentence(self):\n",
    "        \"\"\"\n",
    "        Computes the perceantage share of dm that stand in the beginning, the middle\n",
    "        or the end of a sentence\n",
    "        :return:\n",
    "        \"\"\"\n",
    "        values = self.get_total_dm_positions_sentence()\n",
    "        whole = sum(values)\n",
    "\n",
    "        return [percentage(values[0], whole),\n",
    "                percentage(values[1], whole),\n",
    "                percentage(values[2], whole)]\n",
    "\n",
    "    def get_sentence_position_values(self):\n",
    "        return [self.scores['dm_pos_sent_begin'].dropna(),\n",
    "                self.scores['dm_pos_sent_middle'].dropna(),\n",
    "                self.scores['dm_pos_sent_end'].dropna()]\n",
    "\n",
    "    def get_total_dm_positions_document(self):\n",
    "        \"\"\"\n",
    "        Computes the total number of DM at the beginning, the middle and the end\n",
    "        of a document\n",
    "        :return: a list [count_begin, count_middle, count_end]\n",
    "        \"\"\"\n",
    "        return [sum(self.scores['dm_pos_doc_begin'].dropna()),\n",
    "                sum(self.scores['dm_pos_doc_middle'].dropna()),\n",
    "                sum(self.scores['dm_pos_doc_end'].dropna())]\n",
    "\n",
    "    def get_percent_dm_positions_document(self):\n",
    "        \"\"\"\n",
    "        Computes the perceantage share of dm that stand in the beginning, the middle\n",
    "        or the end of a document\n",
    "        :return:\n",
    "        \"\"\"\n",
    "        values = self.get_total_dm_positions_document()\n",
    "        whole = sum(values)\n",
    "\n",
    "        return [percentage(values[0], whole),\n",
    "                percentage(values[1], whole),\n",
    "                percentage(values[2], whole)]\n",
    "\n",
    "    def get_document_position_values(self):\n",
    "        return [self.scores['dm_pos_doc_begin'].dropna(),\n",
    "                self.scores['dm_pos_doc_middle'].dropna(),\n",
    "                self.scores['dm_pos_doc_end'].dropna()]\n",
    "\n",
    "    def get_sentence_counts(self):\n",
    "        \"\"\"\n",
    "        Returns a list of counts that indicates how many sentences in this dataset contain\n",
    "        as many discourse markers.\n",
    "        E.g.: if  three sentences each contain 2 DM, 2 is added to the list 3 times\n",
    "        :return: a list of all the counts\n",
    "        \"\"\"\n",
    "        values = []\n",
    "\n",
    "        for doc in self.scores['dm_count_sent'].dropna():\n",
    "            doc_counts = ast.literal_eval(doc)\n",
    "\n",
    "            for dm_counter in doc_counts:\n",
    "                sentence_counter = int(doc_counts[dm_counter])\n",
    "                for i in range(sentence_counter):\n",
    "                    values.append(dm_counter)\n",
    "\n",
    "        return values\n",
    "\n",
    "    def compute_dm_per_sentence(self):\n",
    "        \"\"\"\n",
    "        Create two lists, one of which contains the number of dm per sentence (x)\n",
    "        and the other one (y) contains the number of sentences that contain as many dms.\n",
    "        :return: a list of [[x_values],[y_values]]\n",
    "        \"\"\"\n",
    "        values = {}\n",
    "\n",
    "        for doc in self.scores['dm_count_sent'].dropna():\n",
    "            doc_counts = ast.literal_eval(doc)\n",
    "\n",
    "            for dm_counter in doc_counts:\n",
    "                if dm_counter not in values:\n",
    "                    values[dm_counter] = int(doc_counts[dm_counter])\n",
    "                else:\n",
    "                    values[dm_counter] += int(doc_counts[dm_counter])\n",
    "\n",
    "        # x values are the number of dms per sentence\n",
    "        x_values = []\n",
    "        # y values are the number of sentences that contain as many dms.\n",
    "        y_values = []\n",
    "        for element in sorted(values.items()):\n",
    "            x_values.append(element[0])\n",
    "            y_values.append(element[1])\n",
    "\n",
    "        return [x_values, y_values]\n",
    "\n",
    "    # ------- Functionaliyt concerning the marker dictionary with the single markers\n",
    "\n",
    "    def get_total_marker_values(self):\n",
    "        \"\"\"\n",
    "        Creates a dictionary with the markers as keys and their total number of occurrence in this dataset as value\n",
    "        :return:\n",
    "        \"\"\"\n",
    "        markers = {}\n",
    "        for marker in self.marker_dict:\n",
    "            markers[marker] = self.marker_dict[marker]['total']\n",
    "\n",
    "        return markers\n",
    "\n",
    "    def get_total_marker_percents(self):\n",
    "        \"\"\"\n",
    "        Creates a dictionary with the markers as keys\n",
    "        and their percentage-share in all the markers in this dataset as value\n",
    "        :return:\n",
    "        \"\"\"\n",
    "        percents = {}\n",
    "        for marker in self.marker_dict:\n",
    "            percents[marker] = (self.marker_dict[marker]['total'] * 100) / self.total_markers\n",
    "\n",
    "        return percents\n",
    "\n",
    "    def get_total_marker_statistics(self):\n",
    "        \"\"\"\n",
    "        Creates a dictionary with the markers as keys and their average number of occurences\n",
    "        (a_mean, h_mean, median, mode) over all the documents in this dataset as value-dict\n",
    "        :return:\n",
    "        \"\"\"\n",
    "        statistics = {}\n",
    "\n",
    "        for marker in self.marker_dict:\n",
    "            statistics[marker] = {}\n",
    "            statistics[marker]['a_mean'] = self.marker_dict[marker]['total'] / self.total_docs\n",
    "            statistics[marker]['h_mean'] = self.total_docs / self.marker_dict[marker]['inverse_sum_total']\n",
    "            statistics[marker]['median'] = self.marker_dict[marker]['median_total']\n",
    "            statistics[marker]['mode'] = self.marker_dict[marker]['mode_total'][0][0]\n",
    "\n",
    "        return statistics\n",
    "\n",
    "    def get_markers(self):\n",
    "        \"\"\"\n",
    "        :return: a list of all the markers in this dataset\n",
    "        \"\"\"\n",
    "        markers = []\n",
    "        for marker in self.marker_dict:\n",
    "            markers.append(marker)\n",
    "        return markers\n",
    "\n",
    "    def get_marker_values_at_position(self, position, average=False, perc=False):\n",
    "        \"\"\"\n",
    "        Creates a dict with the marker as key and the position value as value\n",
    "        :param position: the position to get the values for: sb, sm, se, db, dm, de\n",
    "        :return:\n",
    "        \"\"\"\n",
    "\n",
    "        markers = {}\n",
    "        if position == \"sb\":\n",
    "            for marker in self.marker_dict:\n",
    "                if average:\n",
    "                    markers[marker] = self.marker_dict[marker]['sent_begin'] / self.total_sentences\n",
    "                elif perc:\n",
    "                    markers[marker] = self.marker_dict[marker]['sent_begin'] * 100 / self.total_sb\n",
    "                else:\n",
    "                    markers[marker] = self.marker_dict[marker]['sent_begin']\n",
    "        elif position == \"sm\":\n",
    "            for marker in self.marker_dict:\n",
    "                if average:\n",
    "                    markers[marker] = self.marker_dict[marker]['sent_middle'] / self.total_sentences\n",
    "                elif perc:\n",
    "                    markers[marker] = self.marker_dict[marker]['sent_middle'] * 100 / self.total_sm\n",
    "                else:\n",
    "                    markers[marker] = self.marker_dict[marker]['sent_middle']\n",
    "        elif position == \"se\":\n",
    "            for marker in self.marker_dict:\n",
    "                if average:\n",
    "                    markers[marker] = self.marker_dict[marker]['sent_end'] / self.total_sentences\n",
    "                elif perc:\n",
    "                    markers[marker] = self.marker_dict[marker]['sent_end'] * 100 / self.total_se\n",
    "                else:\n",
    "                    markers[marker] = self.marker_dict[marker]['sent_end']\n",
    "\n",
    "        elif position == \"db\":\n",
    "            for marker in self.marker_dict:\n",
    "                if average:\n",
    "                    markers[marker] = self.marker_dict[marker]['doc_begin'] / self.total_sentences\n",
    "                elif perc:\n",
    "                    markers[marker] = self.marker_dict[marker]['doc_begin'] * 100 / self.total_db\n",
    "                else:\n",
    "                    markers[marker] = self.marker_dict[marker]['doc_begin']\n",
    "        elif position == \"dm\":\n",
    "            for marker in self.marker_dict:\n",
    "                if average:\n",
    "                    markers[marker] = self.marker_dict[marker]['doc_middle'] / self.total_sentences\n",
    "                elif perc:\n",
    "                    markers[marker] = self.marker_dict[marker]['doc_middle'] * 100 / self.total_dm\n",
    "                else:\n",
    "                    markers[marker] = self.marker_dict[marker]['doc_middle']\n",
    "        elif position == \"de\":\n",
    "            for marker in self.marker_dict:\n",
    "                if average:\n",
    "                    markers[marker] = self.marker_dict[marker]['doc_end'] / self.total_sentences\n",
    "                elif perc:\n",
    "                    markers[marker] = self.marker_dict[marker]['doc_end'] * 100 / self.total_de\n",
    "                else:\n",
    "                    markers[marker] = self.marker_dict[marker]['doc_end']\n",
    "\n",
    "        return markers\n",
    "\n",
    "    def get_all_marker_values(self, marker):\n",
    "        \"\"\"\n",
    "        Creates a List with all the values for a marker:\n",
    "        [total, a_mean, h_mean, median, mode]\n",
    "        :param marker:\n",
    "        :return:\n",
    "        \"\"\"\n",
    "        if marker in self.marker_dict:\n",
    "            marker_values = [  # self.marker_dict[marker]['total'],\n",
    "                self.marker_dict[marker]['total'] / self.total_docs,\n",
    "                self.total_docs / self.marker_dict[marker]['inverse_sum_total'],\n",
    "                self.marker_dict[marker]['median_total'],\n",
    "                self.marker_dict[marker]['mode_total'][0][0]]\n",
    "        else:\n",
    "            marker_values = [0] * 4\n",
    "\n",
    "        return marker_values\n",
    "\n",
    "    def get_marker_total(self, marker):\n",
    "        \"\"\"\n",
    "        Gets the total number of occurrences for the given marker in the dataset.\n",
    "        :param marker:\n",
    "        :return: total number of occurrences in the dataset (0 if none)\n",
    "        \"\"\"\n",
    "        if marker in self.marker_dict:\n",
    "            return self.marker_dict[marker]['total']\n",
    "        else:\n",
    "            return 0\n",
    "\n",
    "    def get_most_common_markers(self, number, position=None, perc=False, average=False):\n",
    "        if position:\n",
    "            marker_count = Counter(self.get_marker_values_at_position(position, average=average, perc=perc))\n",
    "        elif not position and perc:\n",
    "            marker_count = Counter(self.get_total_marker_percents())\n",
    "        else:\n",
    "            marker_count = Counter(self.get_total_marker_values())\n",
    "        markers = []\n",
    "        marker_values = []\n",
    "        for item in marker_count.most_common(number):\n",
    "            markers.append(item[0])\n",
    "            marker_values.append(item[1])\n",
    "\n",
    "        return markers, marker_values"
   ]
  },
  {
   "cell_type": "markdown",
   "metadata": {},
   "source": [
    "### Functions to Plot the data"
   ]
  },
  {
   "cell_type": "code",
   "execution_count": 4,
   "metadata": {},
   "outputs": [],
   "source": [
    "def draw_simple_barchart(figuretitle, titles, data, colors):\n",
    "    \"\"\"\n",
    "    Creates subplots, each a simple barchart for one set of y values over x values in the specified color\n",
    "    :param titles: list of titles\n",
    "    :param data: list of [[xvalues1, yvalues1],[xvalues2, yvalues2], ...] for each dataset\n",
    "    :param colors: list of colors\n",
    "    :return:\n",
    "    \"\"\"\n",
    "    plt.style.use('fivethirtyeight')\n",
    "\n",
    "    fig, axes = plt.subplots(ncols=2, nrows=2, sharey=True)\n",
    "    row = 0\n",
    "    column = 0\n",
    "    for i in range(len(data)):\n",
    "        axes[row][column].bar(data[i][0], data[i][1], color=colors[i])\n",
    "        axes[row][column].set_title(titles[i])\n",
    "\n",
    "        if i % 2 == 0:\n",
    "            axes[row][column].set_ylabel(\"Number Sentences\")\n",
    "\n",
    "        column += 1\n",
    "        if column == 2:\n",
    "            column = 0\n",
    "            row += 1\n",
    "\n",
    "    fig.suptitle(figuretitle)\n",
    "    plt.tight_layout()\n",
    "    plt.show()"
   ]
  },
  {
   "cell_type": "markdown",
   "metadata": {},
   "source": [
    "### Vertical Barcharts"
   ]
  },
  {
   "cell_type": "code",
   "execution_count": 5,
   "metadata": {},
   "outputs": [],
   "source": [
    "def draw_barchart(title, x, y_1, y_1_label,\n",
    "                  y_2=None, y_2_label=None, y_3=None, y_3_label=None, y_4=None, y_4_label=None,\n",
    "                  color_1='k', color_2='k', color_3='k', color_4='k',\n",
    "                  x_label=None, y_label=None, x_ticks=None, y_ticks=None):\n",
    "    \"\"\"\n",
    "    Draws a Barchart of the given Data\n",
    "    :param title: the title of the plot\n",
    "    :param x: the array of x values\n",
    "    :param y_1: the array of the first set of y values\n",
    "    :param y_1_label: the label of the first dataset\n",
    "    :param y_2: the array of the second set of y values\n",
    "    :param y_2_label: the label of the second dataset\n",
    "    :param y_3: the array of the third set of y values\n",
    "    :param y_3_label: the label of the third dataset\n",
    "    :param y_4: the array of the fourth set of y values\n",
    "    :param y_4_label: the label of the fourth dataset\n",
    "    :param color_1: color for the first set of data\n",
    "    :param color_2: color for the second set of data\n",
    "    :param color_3: color for the third set of data\n",
    "    :param color_4: color for the fourth set of data\n",
    "    :param x_label: the label for the x-axis\n",
    "    :param y_label: the label for the y-axis\n",
    "    :param x_ticks: array of [[x-ticks], [labels for those ticks]]\n",
    "    :param y_ticks: array of [[y-ticks], [labels for those ticks]]\n",
    "    :return: nothing\n",
    "    \"\"\"\n",
    "\n",
    "    plt.style.use('fivethirtyeight')\n",
    "    width = 0.15\n",
    "\n",
    "    '''For two sets of data we need to set the bars a bit appart, otherwise they would overlap'''\n",
    "    x_indexes = x_ticks[0]\n",
    "\n",
    "    if not y_2 and not y_3 and not y_4:\n",
    "        plt.bar(x, y_1, color=color_1)\n",
    "\n",
    "    elif y_2 and not y_3 and not y_4:\n",
    "        plt.bar(x_indexes - (width / 4) * 3, y_1, width=width, color=color_1, label=y_1_label)\n",
    "        plt.bar(x_indexes + (width / 4) * 3, y_2, width=width, color=color_2, label=y_2_label)\n",
    "\n",
    "    elif not y_4:\n",
    "        plt.bar(x_indexes - (width / 4) * 6, y_1, width=width, color=color_1, label=y_1_label)\n",
    "        plt.bar(x_indexes, y_2, width=width, color=color_2, label=y_2_label)\n",
    "        plt.bar(x_indexes + (width / 4) * 6, y_3, width=width, color=color_3, label=y_3_label)\n",
    "\n",
    "    elif y_4:\n",
    "        plt.bar(x_indexes - (width / 4) * 9, y_1, width=width, color=color_1, label=y_1_label)\n",
    "        plt.bar(x_indexes - (width / 4) * 3, y_2, width=width, color=color_2, label=y_2_label)\n",
    "        plt.bar(x_indexes + (width / 4) * 3, y_3, width=width, color=color_3, label=y_3_label)\n",
    "        plt.bar(x_indexes + (width / 4) * 9, y_4, width=width, color=color_4, label=y_4_label)\n",
    "\n",
    "    plt.title(title)\n",
    "\n",
    "    '''Set the labels for the x- and the y-axis'''\n",
    "    if x_label:\n",
    "        plt.xlabel(x_label)\n",
    "    if y_label:\n",
    "        plt.ylabel(y_label)\n",
    "\n",
    "    '''Set the ticks and their labels for x and y'''\n",
    "    if x_ticks:\n",
    "        plt.xticks(ticks=x_indexes, labels=x_ticks[1])\n",
    "    if y_ticks:\n",
    "        plt.yticks(ticks=y_ticks[0], labels=y_ticks[1])\n",
    "\n",
    "    if y_2:\n",
    "        '''Add a legend for more than one dataset to distinguish which color stands for which dataset'''\n",
    "        plt.legend()\n",
    "\n",
    "    plt.tight_layout()\n",
    "\n",
    "    plt.show()\n",
    "\n",
    "# ------------ PREPARE DATA ----------\n",
    "def plot_vertical_barchart(title, y_values, x_labels, y_label,\n",
    "                           label_1, label_2=None, label_3=None, label_4=None,\n",
    "                           color_1='k', color_2='k', color_3='k', color_4='k'):\n",
    "    \"\"\"\n",
    "    Prepare the Data for plotting\n",
    "    :param title: Title of the plot\n",
    "    :param y_values: Array of the y-value sets that are to be plottet: [data_1,data_2,etc]\n",
    "    :param x_labels: Array of Labels for the x-ticks\n",
    "    :param y_label: Label for the y-axis\n",
    "    :param label_1: Label for the first set of y-values\n",
    "    :param label_2: Label for the second set of y-values\n",
    "    :param label_3: Label for the third set of y-values\n",
    "    :param label_4: Label for the fourth set of y-values\n",
    "    :param color_1: Color for the first set of y-values\n",
    "    :param color_2: Color for the second set of y-values\n",
    "    :param color_3: Color for the third set of y-values\n",
    "    :param color_4: Color for the fourth set of y-values\n",
    "    :return:\n",
    "    \"\"\"\n",
    "\n",
    "    y_values_1 = y_values[0]\n",
    "    y_values_2 = None\n",
    "    if len(y_values) > 1:\n",
    "        y_values_2 = y_values[1]\n",
    "    y_values_3 = None\n",
    "    if len(y_values) > 2:\n",
    "        y_values_3 = y_values[2]\n",
    "    y_values_4 = None\n",
    "    if len(y_values) == 4:\n",
    "        y_values_4 = y_values[3]\n",
    "\n",
    "    x_values = np.arange(len(y_values_1))\n",
    "\n",
    "    draw_barchart(title, x_values,\n",
    "                  y_values_1, label_1, y_values_2, y_2_label=label_2,\n",
    "                  y_label=y_label, x_ticks=[x_values, x_labels],\n",
    "                  y_3=y_values_3, y_3_label=label_3, y_4=y_values_4, y_4_label=label_4,\n",
    "                  color_1=color_1, color_2=color_2, color_3=color_3, color_4=color_4)"
   ]
  },
  {
   "cell_type": "markdown",
   "metadata": {},
   "source": [
    "### Horizontal Barcharts"
   ]
  },
  {
   "cell_type": "code",
   "execution_count": 6,
   "metadata": {},
   "outputs": [],
   "source": [
    "def draw_horizontal_barchart(title, y_data, x_1, label_1, x_label, y_ticks, x_2=None, label_2=None,\n",
    "                             x_3=None, label_3=None, x_4=None, label_4=None,\n",
    "                             color_1='k', color_2='k', color_3='k', color_4='k'):\n",
    "    \"\"\"\n",
    "    Plots a horizontal barchart\n",
    "    :param title: Titel of the barchart\n",
    "    :param y_data: The Data to be shown (e.g. a list of all the markers]\n",
    "    :param x_1: The Numbers for the first dataset (e.g. a list of occurrence-numbers of the markers)\n",
    "    :param label_1: Name of the first dataset\n",
    "    :param x_label: Label for the x values (e.g. \"Number of occurrences\")\n",
    "    :param x_2: The Numbers for the first dataset (e.g. a list of occurrence-numbers of the markers)\n",
    "    :param label_2: Name of the first dataset\n",
    "    :param x_3: The Numbers for the first dataset (e.g. a list of occurrence-numbers of the markers)\n",
    "    :param label_3: Name of the first dataset\n",
    "    :param x_4: The Numbers for the first dataset (e.g. a list of occurrence-numbers of the markers)\n",
    "    :param label_4: Name of the first dataset\n",
    "    :param color_1: the color for the bars\n",
    "    :param color_2: the color for the bars\n",
    "    :param color_3: the color for the bars\n",
    "    :param color_4: the color for the bars\n",
    "    :return:\n",
    "    \"\"\"\n",
    "\n",
    "    plt.style.use('fivethirtyeight')\n",
    "    width = 0.15\n",
    "\n",
    "    y_indexes = y_ticks[0]\n",
    "\n",
    "    if not x_2 and not x_3 and not x_4:\n",
    "        plt.barh(y_data, x_1, height=width, color=color_1, label=label_1)\n",
    "\n",
    "    elif not x_3 and not x_4:\n",
    "        plt.barh(y_indexes - (width / 4) * 3, x_1, height=width, color=color_1, label=label_1)\n",
    "        plt.barh(y_indexes + (width / 4) * 3, x_2, height=width, color=color_2, label=label_2)\n",
    "\n",
    "    elif not x_4:\n",
    "        plt.barh(y_indexes - (width / 4) * 6, x_1, height=width, color=color_1, label=label_1)\n",
    "        plt.barh(y_indexes, x_2, height=width, color=color_2, label=label_2)\n",
    "        plt.barh(y_indexes + (width / 4) * 6, x_3, height=width, color=color_3, label=label_3)\n",
    "\n",
    "    else:\n",
    "        plt.barh(y_indexes - (width / 4) * 9, x_1, height=width, color=color_1, label=label_1)\n",
    "        plt.barh(y_indexes - (width / 4) * 3, x_2, height=width, color=color_2, label=label_2)\n",
    "        plt.barh(y_indexes + (width / 4) * 3, x_3, height=width, color=color_3, label=label_3)\n",
    "        plt.barh(y_indexes + (width / 4) * 9, x_4, height=width, color=color_4, label=label_4)\n",
    "\n",
    "    plt.title(title)\n",
    "\n",
    "    plt.xlabel(x_label)\n",
    "    plt.yticks(ticks=y_ticks[0], labels=y_ticks[1])\n",
    "\n",
    "    plt.legend()\n",
    "\n",
    "    plt.tight_layout()\n",
    "    plt.show()\n",
    "    \n",
    "\n",
    "def draw_horizontal_subplots(title, y_data, x_1, label_1, x_label, x_2=None, label_2=None,\n",
    "                             x_3=None, label_3=None, x_4=None, label_4=None,\n",
    "                             color_1='k', color_2='k', color_3='k', color_4='k'):\n",
    "    plt.style.use('fivethirtyeight')\n",
    "    width = 0.15\n",
    "\n",
    "    if not x_2 and not x_3 and not x_4:\n",
    "        fig, ax = plt.subplots()\n",
    "        ax.barh(y_data, x_1, height=width, color=color_1, label=label_1)\n",
    "\n",
    "        ax.legend()\n",
    "        ax.set_title(title)\n",
    "        ax.set_xlabel(x_label)\n",
    "\n",
    "    elif not x_3 and not x_4:\n",
    "        fig, (ax1, ax2) = plt.subplots(nrows=1, ncols=2, sharey=True)\n",
    "        ax1.barh(y_data, x_1, height=width, color=color_1, label=label_1)\n",
    "        ax2.barh(y_data, x_2, height=width, color=color_2, label=label_2)\n",
    "\n",
    "        ax1.legend()\n",
    "        ax1.set_title(title)\n",
    "        ax1.set_xlabel(x_label)\n",
    "\n",
    "        ax2.legend()\n",
    "        ax2.set_xlabel(x_label)\n",
    "\n",
    "    elif not x_4:\n",
    "        fig, ((ax1, ax2), (ax3, ax4)) = plt.subplots(nrows=2, ncols=2, sharey=True)\n",
    "        ax1.barh(y_data, x_1, height=width, color=color_1, label=label_1)\n",
    "        ax2.barh(y_data, x_2, height=width, color=color_2, label=label_2)\n",
    "        ax3.barh(y_data, x_3, height=width, color=color_3, label=label_3)\n",
    "\n",
    "        ax1.legend()\n",
    "        ax1.set_title(title)\n",
    "\n",
    "        ax2.legend()\n",
    "        ax2.set_xlabel(x_label)\n",
    "\n",
    "        ax3.legend()\n",
    "        ax3.set_xlabel(x_label)\n",
    "\n",
    "    else:\n",
    "        fig, ((ax1, ax2), (ax3, ax4)) = plt.subplots(nrows=2, ncols=2, sharey=True, sharex=True)\n",
    "        ax1.barh(y_data, x_1, height=width, color=color_1, label=label_1)\n",
    "        ax2.barh(y_data, x_2, height=width, color=color_2, label=label_2)\n",
    "        ax3.barh(y_data, x_3, height=width, color=color_3, label=label_3)\n",
    "        ax4.barh(y_data, x_4, height=width, color=color_4, label=label_4)\n",
    "\n",
    "        ax1.set_title(title)\n",
    "        ax1.legend()\n",
    "\n",
    "        ax2.legend()\n",
    "\n",
    "        ax3.legend()\n",
    "        ax3.set_xlabel(x_label)\n",
    "\n",
    "        ax4.legend()\n",
    "        ax4.set_xlabel(x_label)\n",
    "\n",
    "    plt.tight_layout()\n",
    "    plt.show()\n",
    "    \n",
    "\n",
    "# ------------ PREPARE DATA ----------\n",
    "def plot_horizontal_barchart(title, y_values, x_values, x_label,\n",
    "                             label_1, label_2=None, label_3=None, label_4=None,\n",
    "                             color_1='k', color_2='k', color_3='k', color_4='k',\n",
    "                             subplot=False):\n",
    "    \"\"\"\n",
    "    :param title: Title of the Barchart\n",
    "    :param y_values: list of y_values (e.g. all the markers),\n",
    "    :param x_values: the values for the x-achsis (e.g. the different numbers of occurrences)\n",
    "    :param x_label: the label for the x-Achsis\n",
    "    :param label_1: label for the first dataset\n",
    "    :param label_2: label for the second dataset\n",
    "    :param label_3: label for the third dataset\n",
    "    :param label_4: label for the fourth dataset\n",
    "    :param color_1: color for the first dataset\n",
    "    :param color_2: color for the second dataset\n",
    "    :param color_3: color for the third dataset\n",
    "    :param color_4: color for the fourth dataset\n",
    "    :param subplot: indicates whether the data is to be displayed in a single plot (False, default),\n",
    "                    or in different subplots(True)\n",
    "    :return:\n",
    "    \"\"\"\n",
    "\n",
    "    y_values = y_values\n",
    "    x_values_1 = x_values[0]\n",
    "    x_values_2 = None\n",
    "    if len(x_values) > 1:\n",
    "        x_values_2 = x_values[1]\n",
    "    x_values_3 = None\n",
    "    if len(x_values) > 2:\n",
    "        x_values_3 = x_values[2]\n",
    "    x_values_4 = None\n",
    "    if len(x_values) == 4:\n",
    "        x_values_4 = x_values[3]\n",
    "\n",
    "    y_ticks = [np.arange(len(x_values_1)), y_values]\n",
    "\n",
    "    if subplot:\n",
    "        draw_horizontal_subplots(title, y_values, x_values_1, label_1,\n",
    "                                 x_label=x_label,\n",
    "                                 x_2=x_values_2, label_2=label_2,\n",
    "                                 x_3=x_values_3, label_3=label_3,\n",
    "                                 x_4=x_values_4, label_4=label_4,\n",
    "                                 color_1=color_1, color_2=color_2, color_3=color_3, color_4=color_4)\n",
    "    else:\n",
    "        draw_horizontal_barchart(title, y_values, x_values_1, label_1,\n",
    "                                 x_label=x_label, y_ticks=y_ticks,\n",
    "                                 x_2=x_values_2, label_2=label_2,\n",
    "                                 x_3=x_values_3, label_3=label_3,\n",
    "                                 x_4=x_values_4, label_4=label_4,\n",
    "                                 color_1=color_1, color_2=color_2, color_3=color_3, color_4=color_4)"
   ]
  },
  {
   "cell_type": "markdown",
   "metadata": {},
   "source": [
    "### Piecharts"
   ]
  },
  {
   "cell_type": "code",
   "execution_count": 7,
   "metadata": {},
   "outputs": [],
   "source": [
    "def draw_piecharts(figuretitle, titles, slices, labels, colors, angle):\n",
    "    \"\"\"\n",
    "    Draws a Piechart of the given data with a title and labels for the slices\n",
    "    \"\"\"\n",
    "\n",
    "    fig, axes = plt.subplots(ncols=2, nrows=2, sharey=True)\n",
    "    row = 0\n",
    "    column = 0\n",
    "    for i in range(len(titles)):\n",
    "        axes[row][column].pie(slices[i], labels=labels, colors=colors[i],\n",
    "                              startangle=angle, autopct='%1.1f%%')\n",
    "        axes[row][column].set_title(titles[i])\n",
    "\n",
    "        column += 1\n",
    "        if column == 2:\n",
    "            column = 0\n",
    "            row += 1\n",
    "\n",
    "    fig.suptitle(figuretitle)\n",
    "\n",
    "    plt.tight_layout()\n",
    "    plt.show()\n",
    "\n",
    "\n",
    "# ------------ PREPARE DATA ----------\n",
    "def plot_dm_position_piechart(title, data, labels, colors):\n",
    "    \"\"\"\n",
    "    Prepares the Data for Piecharts:\n",
    "    One for each Dataset with slices=[counter_begin, counter_middle, counder_end]\n",
    "    and one for each Position (Begin, Middle, End) with slices for each dataset\n",
    "    :param: data: array that contains the datasets\n",
    "    :param: labels: array of labels for the datasets\n",
    "    :param: colors: array of colors for the datasets\n",
    "    :return:\n",
    "    \"\"\"\n",
    "\n",
    "    set_labels = [\"begin\", \"middle\", \"end\"]\n",
    "    begin_slices = []\n",
    "    middle_slices = []\n",
    "    end_slices = []\n",
    "    titles = []\n",
    "    slices = []\n",
    "    for dataset, label in zip(data, labels):\n",
    "        begin_slices.append(sum(dataset[0]))\n",
    "        middle_slices.append(sum(dataset[1]))\n",
    "        end_slices.append(sum(dataset[2]))\n",
    "        slices.append([sum(dataset[0]), sum(dataset[1]), sum(dataset[2])])\n",
    "        titles.append(label)\n",
    "\n",
    "    draw_piecharts(title, titles, slices, set_labels, colors, 0)"
   ]
  },
  {
   "cell_type": "code",
   "execution_count": null,
   "metadata": {},
   "outputs": [],
   "source": []
  },
  {
   "cell_type": "markdown",
   "metadata": {},
   "source": [
    "### Plots for Discourse Markers"
   ]
  },
  {
   "cell_type": "code",
   "execution_count": 8,
   "metadata": {},
   "outputs": [],
   "source": [
    "def draw_marker_subplots(figuretitle, start, markerlist, dataset1, dataset2, dataset3, dataset4,\n",
    "                         label1, label2, label3, label4,\n",
    "                         color1, color2, color3, color4,\n",
    "                         x_ticks):\n",
    "    \"\"\"\n",
    "    Plots a figure with 12 subplots, one for each marker in each dataset\n",
    "    \"\"\"\n",
    "    plt.style.use('fivethirtyeight')\n",
    "    y_indexes = x_ticks[0]\n",
    "\n",
    "    width = 0.15\n",
    "\n",
    "    fig, axes = plt.subplots(ncols=4, nrows=3, sharey=True)\n",
    "\n",
    "    row = 0\n",
    "    column = 0\n",
    "    for i in range(start, start + 12):\n",
    "        if i < len(markerlist):\n",
    "            axes[row][column].bar(y_indexes - (width / 4) * 9, dataset1[i], width=width, color=color1, label=label1)\n",
    "            axes[row][column].bar(y_indexes - (width / 4) * 3, dataset2[i], width=width, color=color2, label=label2)\n",
    "            axes[row][column].bar(y_indexes + (width / 4) * 3, dataset3[i], width=width, color=color3, label=label3)\n",
    "            axes[row][column].bar(y_indexes + (width / 4) * 9, dataset4[i], width=width, color=color4, label=label4)\n",
    "\n",
    "            axes[row][column].set_title(markerlist[i])\n",
    "            axes[row][column].set_xticks(x_ticks[0])\n",
    "            axes[row][column].set_xticklabels(x_ticks[1])\n",
    "            # axes1[row][column].legend()\n",
    "\n",
    "            column += 1\n",
    "            if column == 4:\n",
    "                column = 0\n",
    "                row += 1\n",
    "        else:\n",
    "            break\n",
    "\n",
    "    fig.suptitle(figuretitle)\n",
    "    plt.tight_layout()\n",
    "    plt.show()\n",
    "\n",
    "\n",
    "def plot_marker_subplots(title, markerlist, y_values, x_labels,\n",
    "                         label1, label2, label3, label4,\n",
    "                         color1, color2, color3, color4):\n",
    "    \"\"\"\n",
    "    Processes the data and calls the plot function (12 times, as there are 142 markers\n",
    "    and only 12 fit in one figure)\n",
    "    \"\"\"\n",
    "    y_values_1 = y_values[0]\n",
    "    y_values_2 = y_values[1]\n",
    "    y_values_3 = y_values[2]\n",
    "    y_values_4 = y_values[3]\n",
    "\n",
    "    x_values = np.arange(len(y_values_1[0]))\n",
    "\n",
    "    for i in range(0, 144, 12):\n",
    "        draw_marker_subplots(title, i, markerlist, y_values_1, y_values_2, y_values_3, y_values_4,\n",
    "                             label1, label2, label3, label4,\n",
    "                             color1, color2, color3, color4,\n",
    "                             [x_values, x_labels])\n",
    "\n",
    "\n",
    "def prepare_marker_subplots(data1, data2, data3, data4):\n",
    "    \"\"\"\n",
    "    Creates list containing all the values for the respective dataset matching up\n",
    "    with the created list of markers\n",
    "    :param data1: first dataset\n",
    "    :param data2: second dataset\n",
    "    :param data3: third dataset\n",
    "    :param data4: fourth dataset\n",
    "    :return: the list of markers and a list of lists of the dataset values\n",
    "    \"\"\"\n",
    "    markers = list_all_markers(data1, data2, data3, data4)\n",
    "    y_values_1 = []\n",
    "    y_values_2 = []\n",
    "    y_values_3 = []\n",
    "    y_values_4 = []\n",
    "\n",
    "    for marker in markers:\n",
    "        y_values_1.append(data1.get_all_marker_values(marker))\n",
    "        y_values_2.append(data2.get_all_marker_values(marker))\n",
    "        y_values_3.append(data3.get_all_marker_values(marker))\n",
    "        y_values_4.append(data4.get_all_marker_values(marker))\n",
    "\n",
    "    return markers, [y_values_1, y_values_2, y_values_3, y_values_4]\n",
    "\n",
    "\n",
    "def most_common_markers_plot(figuretitle, xlabel,\n",
    "                             data1, label1, color1, data2=None, label2=None, color2=None,\n",
    "                             data3=None, label3=None, color3=None, data4=None, label4=None, color4=None,\n",
    "                             share=False):\n",
    "    plt.style.use('fivethirtyeight')\n",
    "    width = 0.15\n",
    "    plt.rc('ytick', labelsize=10)\n",
    "    plt.rc('xtick', labelsize=9)\n",
    "\n",
    "    if not data2 and not data3 and not data4:\n",
    "        fig, ax = plt.subplots()\n",
    "        ax.barh(data1[0], data1[1], height=width, color=color1, label=label1)\n",
    "\n",
    "        ax.legend()\n",
    "        ax.set_title(label1)\n",
    "        ax.set_xlabel(xlabel)\n",
    "\n",
    "    elif not data3 and not data4:\n",
    "        if share:\n",
    "            fig, (ax1, ax2) = plt.subplots(nrows=1, ncols=1, sharex=True)\n",
    "        else:\n",
    "            fig, (ax1, ax2) = plt.subplots(nrows=1, ncols=1)\n",
    "        ax1.barh(data1[0], data1[1], height=width, color=color1, label=label1)\n",
    "        ax2.barh(data2[0], data2[1], height=width, color=color2, label=label2)\n",
    "\n",
    "        ax1.set_title(label1)\n",
    "        ax1.set_xlabel(xlabel)\n",
    "\n",
    "        ax2.set_title(label2)\n",
    "        ax2.set_xlabel(xlabel)\n",
    "\n",
    "    elif not data4:\n",
    "        if share:\n",
    "            fig, (ax1, ax2, ax3) = plt.subplots(nrows=1, ncols=3, sharex=True)\n",
    "        else:\n",
    "            fig, (ax1, ax2, ax3) = plt.subplots(nrows=1, ncols=3)\n",
    "        ax1.barh(data1[0], data1[1], height=width, color=color1, label=label1)\n",
    "        ax2.barh(data2[0], data2[1], height=width, color=color2, label=label2)\n",
    "        ax3.barh(data3[0], data3[1], height=width, color=color3, label=label3)\n",
    "\n",
    "        ax1.set_title(label1)\n",
    "\n",
    "        ax2.set_title(label2)\n",
    "        ax2.set_xlabel(xlabel)\n",
    "\n",
    "        ax3.set_title(label3)\n",
    "\n",
    "    else:\n",
    "        if share:\n",
    "            fig, ((ax1, ax2), (ax3, ax4)) = plt.subplots(nrows=2, ncols=2, sharex=True)\n",
    "        else:\n",
    "            fig, ((ax1, ax2), (ax3, ax4)) = plt.subplots(nrows=2, ncols=2)\n",
    "        ax1.barh(data1[0], data1[1], height=width, color=color1, label=label1)\n",
    "        ax2.barh(data2[0], data2[1], height=width, color=color2, label=label2)\n",
    "        ax3.barh(data3[0], data3[1], height=width, color=color3, label=label3)\n",
    "        ax4.barh(data4[0], data4[1], height=width, color=color4, label=label4)\n",
    "\n",
    "        ax1.set_title(label1)\n",
    "\n",
    "        ax2.set_title(label2)\n",
    "\n",
    "        ax3.set_title(label3)\n",
    "        ax3.set_xlabel(xlabel)\n",
    "\n",
    "        ax4.set_title(label4)\n",
    "        ax4.set_xlabel(xlabel)\n",
    "\n",
    "    fig.suptitle(figuretitle)\n",
    "\n",
    "    plt.tight_layout()\n",
    "    plt.show()"
   ]
  },
  {
   "cell_type": "markdown",
   "metadata": {},
   "source": [
    "## Class that creates and holds the dataset objects"
   ]
  },
  {
   "cell_type": "code",
   "execution_count": 9,
   "metadata": {},
   "outputs": [],
   "source": [
    "class CorpusData:\n",
    "    def __init__(self,\n",
    "                 spotify_scores, spotify_dict,\n",
    "                 ted_scores, ted_dict,\n",
    "                 ny_scores, ny_dict,\n",
    "                 gig_scores, gig_dict):\n",
    "        self.spotify = DatasetScores(spotify_scores, spotify_dict)\n",
    "        self.ted = DatasetScores(ted_scores, ted_dict)\n",
    "        self.ny = DatasetScores(ny_scores, ny_dict)\n",
    "        self.gig = DatasetScores(gig_scores, gig_dict)\n",
    "\n",
    "        # Colors:   [base, darker, lighter]\n",
    "        self.spotify_color = '#1DB954'\n",
    "        self.spotify_shades = ['#1DB954', '#0e5c2a', '#8edca9']\n",
    "        self.ted_color = '#e62b1e'\n",
    "        self.ted_shades = ['#e62b1e', '#73150f', '#f2958e']\n",
    "        self.ny_color = '#FFA700'\n",
    "        self.ny_shades = ['#FFA700', '#7f5300', '#ffd37f']\n",
    "        self.gig_color = '#227DFB'\n",
    "        self.gig_shades = ['#227DFB', '#113e7d', '#90befd']\n",
    "\n",
    "\n",
    "data = CorpusData(\"../bigData/listenability-tools/scores/spotify-scores_short.csv\",\n",
    "                      \"../bigData/listenability-tools/dict/spotify-dict.json\",\n",
    "                      \"../bigData/listenability-tools/scores/ted-scores_short.csv\",\n",
    "                      \"../bigData/listenability-tools/dict/ted-dict.json\",\n",
    "                      \"../bigData/listenability-tools/scores/nytimes-scores_short.csv\",\n",
    "                      \"../bigData/listenability-tools/dict/nytimes-dict.json\",\n",
    "                      \"../bigData/listenability-tools/scores/gigaword-scores_short.csv\",\n",
    "                      \"../bigData/listenability-tools/dict/gigaword-dict.json\")"
   ]
  },
  {
   "cell_type": "markdown",
   "metadata": {},
   "source": [
    "# Discourse Markers per Text\n",
    "---\n",
    "### DM per Text in Percent"
   ]
  },
  {
   "cell_type": "code",
   "execution_count": 14,
   "metadata": {},
   "outputs": [
    {
     "data": {
      "application/vnd.jupyter.widget-view+json": {
       "model_id": "d660115fd2964e15a1d05f75a3755619",
       "version_major": 2,
       "version_minor": 0
      },
      "text/plain": [
       "Canvas(toolbar=Toolbar(toolitems=[('Home', 'Reset original view', 'home', 'home'), ('Back', 'Back to previous …"
      ]
     },
     "metadata": {},
     "output_type": "display_data"
    }
   ],
   "source": [
    "%matplotlib widget\n",
    "plot_vertical_barchart(\"Percent Discourse Markers per Text\",\n",
    "                              [data.spotify.get_percent_dm_count_statistics(),\n",
    "                               data.ted.get_percent_dm_count_statistics(),\n",
    "                               data.ny.get_percent_dm_count_statistics(),\n",
    "                               data.gig.get_percent_dm_count_statistics()],\n",
    "                              [\"Min\", \"A_Mean\", \"H_Mean\", \"Median\", \"Mode\", \"Max\"],\n",
    "                              \"Percent Markers\",\n",
    "                              label_1=\"Spotify\", label_2=\"TED\", label_3=\"NYTimes\", label_4=\"Gigaword\",\n",
    "                              color_1=data.spotify_color, color_2=data.ted_color,\n",
    "                              color_3=data.ny_color, color_4=data.gig_color\n",
    "                              )"
   ]
  },
  {
   "cell_type": "markdown",
   "metadata": {},
   "source": [
    "### Total DM per Text"
   ]
  },
  {
   "cell_type": "code",
   "execution_count": 15,
   "metadata": {},
   "outputs": [
    {
     "data": {
      "application/vnd.jupyter.widget-view+json": {
       "model_id": "57e975843c814465a99df61aedf86686",
       "version_major": 2,
       "version_minor": 0
      },
      "text/plain": [
       "Canvas(toolbar=Toolbar(toolitems=[('Home', 'Reset original view', 'home', 'home'), ('Back', 'Back to previous …"
      ]
     },
     "metadata": {},
     "output_type": "display_data"
    }
   ],
   "source": [
    "%matplotlib widget\n",
    "plot_vertical_barchart(\"Number Discourse Markers per Text\",\n",
    "                              [data.spotify.get_total_dm_count_statistics(),\n",
    "                               data.ted.get_total_dm_count_statistics(),\n",
    "                               data.ny.get_total_dm_count_statistics(),\n",
    "                               data.ny.get_total_dm_count_statistics()],\n",
    "                              [\"Min\", \"A_Mean\", \"H_Mean\", \"Median\", \"Mode\", \"Max\"],\n",
    "                              \"Number Markers\",\n",
    "                              label_1=\"Spotify\", label_2=\"TED\", label_3=\"NYTimes\", label_4=\"Gigaword\",\n",
    "                              color_1=data.spotify_color, color_2=data.ted_color,\n",
    "                              color_3=data.ny_color, color_4=data.gig_color\n",
    "                              )"
   ]
  },
  {
   "cell_type": "markdown",
   "metadata": {},
   "source": [
    "## Sentences Containing Discourse Markers"
   ]
  },
  {
   "cell_type": "markdown",
   "metadata": {},
   "source": [
    "### Percent of Sentences of the Texts containing at least one DM"
   ]
  },
  {
   "cell_type": "code",
   "execution_count": 12,
   "metadata": {},
   "outputs": [
    {
     "data": {
      "application/vnd.jupyter.widget-view+json": {
       "model_id": "3aedd6d9236a4c62b4be986506b64d8a",
       "version_major": 2,
       "version_minor": 0
      },
      "text/plain": [
       "Canvas(toolbar=Toolbar(toolitems=[('Home', 'Reset original view', 'home', 'home'), ('Back', 'Back to previous …"
      ]
     },
     "metadata": {},
     "output_type": "display_data"
    }
   ],
   "source": [
    "%matplotlib widget\n",
    "plot_vertical_barchart(\"Percent of Sentences with DM per Text\",\n",
    "                              [data.spotify.get_percent_dm_sentences_statistics(),\n",
    "                               data.ny.get_percent_dm_sentences_statistics(),\n",
    "                               data.gig.get_percent_dm_sentences_statistics()],\n",
    "                              [\"Min\", \"A_Mean\", \"H_Mean\", \"Median\", \"Mode\", \"Max\"],\n",
    "                              \"% Sentences containing DM\",\n",
    "                              label_1=\"Spotify\", label_2=\"NYTimes\", label_3=\"Gigaword\",\n",
    "                              color_1=data.spotify_color, color_2=data.ny_color, color_3=data.gig_color)"
   ]
  },
  {
   "cell_type": "markdown",
   "metadata": {},
   "source": [
    "### Total Number of Sentences containing at least one DM"
   ]
  },
  {
   "cell_type": "code",
   "execution_count": 13,
   "metadata": {},
   "outputs": [
    {
     "data": {
      "application/vnd.jupyter.widget-view+json": {
       "model_id": "c46244e93ef44d7f9430fd9178880069",
       "version_major": 2,
       "version_minor": 0
      },
      "text/plain": [
       "Canvas(toolbar=Toolbar(toolitems=[('Home', 'Reset original view', 'home', 'home'), ('Back', 'Back to previous …"
      ]
     },
     "metadata": {},
     "output_type": "display_data"
    }
   ],
   "source": [
    "%matplotlib widget\n",
    "plot_vertical_barchart(\"Number of Sentences with DM per Text\",\n",
    "                              [data.spotify.get_total_dm_sentences_statistics(),\n",
    "                               data.ny.get_total_dm_sentences_statistics(),\n",
    "                               data.gig.get_total_dm_sentences_statistics()],\n",
    "                              [\"Min\", \"A_Mean\", \"H_Mean\", \"Median\", \"Mode\", \"Max\"],\n",
    "                              \"# Sentences containing DM\",\n",
    "                              label_1=\"Spotify\", label_2=\"NYTimes\", label_3=\"Gigaword\",\n",
    "                              color_1=data.spotify_color, color_2=data.ny_color, color_3=data.gig_color)"
   ]
  },
  {
   "cell_type": "markdown",
   "metadata": {},
   "source": [
    "## Discourse Markers per Sentence\n",
    "---\n",
    "### Number of DM per sentence"
   ]
  },
  {
   "cell_type": "code",
   "execution_count": 16,
   "metadata": {},
   "outputs": [
    {
     "data": {
      "application/vnd.jupyter.widget-view+json": {
       "model_id": "2de211714a5a4b488b1bc065e66caa81",
       "version_major": 2,
       "version_minor": 0
      },
      "text/plain": [
       "Canvas(toolbar=Toolbar(toolitems=[('Home', 'Reset original view', 'home', 'home'), ('Back', 'Back to previous …"
      ]
     },
     "metadata": {},
     "output_type": "display_data"
    }
   ],
   "source": [
    "%matplotlib widget\n",
    "plot_vertical_barchart(\"Number of Discourse Markers per Sentence\",\n",
    "                       [data.spotify.get_total_dm_per_sentence_statistics(),\n",
    "                        data.ny.get_total_dm_per_sentence_statistics(),\n",
    "                        data.gig.get_total_dm_per_sentence_statistics()],\n",
    "                       [\"Min\", \"A_Mean\", \"H_Mean\", \"Median\", \"Mode\", \"Max\"],\n",
    "                       \"# Markers per Sentence\",\n",
    "                       label_1=\"Spotify\", label_2=\"NYTimes\", label_3=\"Gigaword\",\n",
    "                       color_1=data.spotify_color, color_2=data.ny_color, color_3=data.gig_color)"
   ]
  },
  {
   "cell_type": "markdown",
   "metadata": {},
   "source": [
    "### Histogram of number of DM per sentence"
   ]
  },
  {
   "cell_type": "code",
   "execution_count": 32,
   "metadata": {},
   "outputs": [
    {
     "data": {
      "application/vnd.jupyter.widget-view+json": {
       "model_id": "9bd97fe99fee405084a03952de20df43",
       "version_major": 2,
       "version_minor": 0
      },
      "text/plain": [
       "Canvas(toolbar=Toolbar(toolitems=[('Home', 'Reset original view', 'home', 'home'), ('Back', 'Back to previous …"
      ]
     },
     "metadata": {},
     "output_type": "display_data"
    }
   ],
   "source": [
    "%matplotlib widget\n",
    "draw_simple_barchart(\"Number of Discourse Markers per Sentence\",\n",
    "                            [\"Spotify\", \"NYTimes\", \"Gigaword\"],\n",
    "                            [data.spotify.compute_dm_per_sentence(),\n",
    "                             data.ny.compute_dm_per_sentence(),\n",
    "                             data.gig.compute_dm_per_sentence()],\n",
    "                            [data.spotify_color, data.ny_color, data.gig_color])"
   ]
  },
  {
   "cell_type": "markdown",
   "metadata": {},
   "source": [
    "## Sentence Positions\n",
    "---\n",
    "### Percentage of DM at certain positions in a sentence"
   ]
  },
  {
   "cell_type": "code",
   "execution_count": 17,
   "metadata": {},
   "outputs": [
    {
     "data": {
      "application/vnd.jupyter.widget-view+json": {
       "model_id": "00ba8381eb5b40ba86435cfee6ba5ebf",
       "version_major": 2,
       "version_minor": 0
      },
      "text/plain": [
       "Canvas(toolbar=Toolbar(toolitems=[('Home', 'Reset original view', 'home', 'home'), ('Back', 'Back to previous …"
      ]
     },
     "metadata": {},
     "output_type": "display_data"
    }
   ],
   "source": [
    "%matplotlib widget\n",
    "plot_vertical_barchart(\"% of DM in a Position in a Sentence\",\n",
    "                              [data.spotify.get_percent_dm_positions_sentence(),\n",
    "                               data.ny.get_percent_dm_positions_sentence(),\n",
    "                               data.gig.get_percent_dm_positions_sentence()],\n",
    "                              [\"begin\", \"middle\", \"end\"],\n",
    "                              \"% DM at Postion\",\n",
    "                              label_1=\"Spotify\", label_2=\"NYTimes\", label_3=\"Gigaword\",\n",
    "                              color_1=data.spotify_color, color_2=data.ny_color, color_3=data.gig_color)"
   ]
  },
  {
   "cell_type": "code",
   "execution_count": 18,
   "metadata": {},
   "outputs": [
    {
     "data": {
      "application/vnd.jupyter.widget-view+json": {
       "model_id": "752c1f8e22b14e28aa39ad79f9114d65",
       "version_major": 2,
       "version_minor": 0
      },
      "text/plain": [
       "Canvas(toolbar=Toolbar(toolitems=[('Home', 'Reset original view', 'home', 'home'), ('Back', 'Back to previous …"
      ]
     },
     "metadata": {},
     "output_type": "display_data"
    }
   ],
   "source": [
    "%matplotlib widget\n",
    "plot_dm_position_piechart(\"DM in a Sentence at Position:\",\n",
    "                                 [data.spotify.get_sentence_position_values(),\n",
    "                                  data.ny.get_sentence_position_values(),\n",
    "                                  data.gig.get_sentence_position_values()\n",
    "                                  ],\n",
    "                                 [\"Spotify Data\", \"NYTimes Data\", \"Gigaword Data\"],\n",
    "                                 [data.spotify_shades,\n",
    "                                  data.ny_shades,\n",
    "                                  data.gig_shades])"
   ]
  },
  {
   "cell_type": "markdown",
   "metadata": {},
   "source": [
    "### Number of DM at certain position in a sentence"
   ]
  },
  {
   "cell_type": "code",
   "execution_count": 19,
   "metadata": {},
   "outputs": [
    {
     "data": {
      "application/vnd.jupyter.widget-view+json": {
       "model_id": "9e1836325088440e8aacb486adf652c0",
       "version_major": 2,
       "version_minor": 0
      },
      "text/plain": [
       "Canvas(toolbar=Toolbar(toolitems=[('Home', 'Reset original view', 'home', 'home'), ('Back', 'Back to previous …"
      ]
     },
     "metadata": {},
     "output_type": "display_data"
    }
   ],
   "source": [
    "%matplotlib widget\n",
    "plot_vertical_barchart(\"Number of DM at a certain Position in a Sentence\",\n",
    "                              [data.spotify.get_total_dm_positions_sentence(),\n",
    "                               data.ny.get_total_dm_positions_sentence(),\n",
    "                               data.gig.get_total_dm_positions_sentence()],\n",
    "                              [\"begin\", \"middle\", \"end\"],\n",
    "                              \"# DM at Postion\",\n",
    "                              label_1=\"Spotify\", label_2=\"NYTimes\", label_3=\"Gigaword\",\n",
    "                              color_1=data.spotify_color, color_2=data.ny_color, color_3=data.gig_color)"
   ]
  },
  {
   "cell_type": "markdown",
   "metadata": {},
   "source": [
    "## Document Positions\n",
    "---\n",
    "### Percentage of DM at certain positions in a document"
   ]
  },
  {
   "cell_type": "code",
   "execution_count": 20,
   "metadata": {},
   "outputs": [
    {
     "data": {
      "application/vnd.jupyter.widget-view+json": {
       "model_id": "d34214b8f6cc4d0ebe5586c79e70f1c2",
       "version_major": 2,
       "version_minor": 0
      },
      "text/plain": [
       "Canvas(toolbar=Toolbar(toolitems=[('Home', 'Reset original view', 'home', 'home'), ('Back', 'Back to previous …"
      ]
     },
     "metadata": {},
     "output_type": "display_data"
    }
   ],
   "source": [
    "%matplotlib widget\n",
    "plot_vertical_barchart(\"% of DM in a Position in a Document\",\n",
    "                              [data.spotify.get_percent_dm_positions_document(),\n",
    "                               data.ted.get_percent_dm_positions_document(),\n",
    "                               data.ny.get_percent_dm_positions_document(),\n",
    "                               data.gig.get_percent_dm_positions_document()],\n",
    "                              [\"begin\", \"middle\", \"end\"],\n",
    "                              \"% DM at Postion\",\n",
    "                              label_1=\"Spotify\", label_2=\"TED\", label_3=\"NYTimes\", label_4=\"Gigaword\",\n",
    "                              color_1=data.spotify_color, color_2=data.ted_color,\n",
    "                              color_3=data.ny_color, color_4=data.gig_color)"
   ]
  },
  {
   "cell_type": "code",
   "execution_count": 21,
   "metadata": {},
   "outputs": [
    {
     "data": {
      "application/vnd.jupyter.widget-view+json": {
       "model_id": "b1d4ab7880d9405fa16a5470ecf3d047",
       "version_major": 2,
       "version_minor": 0
      },
      "text/plain": [
       "Canvas(toolbar=Toolbar(toolitems=[('Home', 'Reset original view', 'home', 'home'), ('Back', 'Back to previous …"
      ]
     },
     "metadata": {},
     "output_type": "display_data"
    }
   ],
   "source": [
    "%matplotlib widget\n",
    "plot_dm_position_piechart(\"Positions of Discourse Markers in the Documents\",\n",
    "                                 [data.spotify.get_document_position_values(),\n",
    "                                  data.ted.get_document_position_values(),\n",
    "                                  data.ny.get_document_position_values(),\n",
    "                                  data.gig.get_document_position_values()\n",
    "                                  ],\n",
    "                                 [\"Spotify Data\", \"TED Data\", \"NYTimes Data\", \"Gigaword Data\"],\n",
    "                                 [data.spotify_shades,\n",
    "                                  data.ted_shades,\n",
    "                                  data.ny_shades,\n",
    "                                  data.gig_shades])"
   ]
  },
  {
   "cell_type": "markdown",
   "metadata": {},
   "source": [
    "### Number of DM at certain position in a sentence"
   ]
  },
  {
   "cell_type": "code",
   "execution_count": 22,
   "metadata": {},
   "outputs": [
    {
     "data": {
      "application/vnd.jupyter.widget-view+json": {
       "model_id": "718a164d5c2340e0907ce6e83f8ed36f",
       "version_major": 2,
       "version_minor": 0
      },
      "text/plain": [
       "Canvas(toolbar=Toolbar(toolitems=[('Home', 'Reset original view', 'home', 'home'), ('Back', 'Back to previous …"
      ]
     },
     "metadata": {},
     "output_type": "display_data"
    }
   ],
   "source": [
    "%matplotlib widget\n",
    "plot_vertical_barchart(\"Number of DM at a certain Position in a Document\",\n",
    "                              [data.spotify.get_total_dm_positions_document(),\n",
    "                               data.ted.get_total_dm_positions_document(),\n",
    "                               data.ny.get_total_dm_positions_document(),\n",
    "                               data.gig.get_total_dm_positions_document()],\n",
    "                              [\"begin\", \"middle\", \"end\"],\n",
    "                              \"# DM at Postion\",\n",
    "                              label_1=\"Spotify\", label_2=\"TED\", label_3=\"NYTimes\", label_4=\"Gigaword\",\n",
    "                              color_1=data.spotify_color, color_2=data.ted_color,\n",
    "                              color_3=data.ny_color, color_4=data.gig_color)"
   ]
  },
  {
   "cell_type": "markdown",
   "metadata": {},
   "source": [
    "# Most Common Discourse Markers"
   ]
  },
  {
   "cell_type": "markdown",
   "metadata": {},
   "source": [
    "### In Percent"
   ]
  },
  {
   "cell_type": "code",
   "execution_count": 23,
   "metadata": {},
   "outputs": [
    {
     "data": {
      "application/vnd.jupyter.widget-view+json": {
       "model_id": "20ad7c4872304cbd8c6eb7dff804bf17",
       "version_major": 2,
       "version_minor": 0
      },
      "text/plain": [
       "Canvas(toolbar=Toolbar(toolitems=[('Home', 'Reset original view', 'home', 'home'), ('Back', 'Back to previous …"
      ]
     },
     "metadata": {},
     "output_type": "display_data"
    }
   ],
   "source": [
    "%matplotlib widget\n",
    "most_common_markers_plot(\"Most Common Markers per Dataset in %\", \"Share in all Markers\",\n",
    "                                data.spotify.get_most_common_markers(15, perc=True),\n",
    "                                \"Spotify\", data.spotify_color,\n",
    "                                data2=data.ted.get_most_common_markers(15, perc=True),\n",
    "                                label2=\"TED\", color2=data.ted_color,\n",
    "                                data3=data.ny.get_most_common_markers(15, perc=True),\n",
    "                                label3=\"NYTimes\",\n",
    "                                color3=data.ny_color,\n",
    "                                data4=data.gig.get_most_common_markers(15, perc=True),\n",
    "                                label4=\"Gigaword\",\n",
    "                                color4=data.gig_color, share=True)"
   ]
  },
  {
   "cell_type": "markdown",
   "metadata": {},
   "source": [
    "### Total Numbers"
   ]
  },
  {
   "cell_type": "code",
   "execution_count": 27,
   "metadata": {},
   "outputs": [
    {
     "data": {
      "application/vnd.jupyter.widget-view+json": {
       "model_id": "0950a83e1a89418ab789600b095cde97",
       "version_major": 2,
       "version_minor": 0
      },
      "text/plain": [
       "Canvas(toolbar=Toolbar(toolitems=[('Home', 'Reset original view', 'home', 'home'), ('Back', 'Back to previous …"
      ]
     },
     "metadata": {},
     "output_type": "display_data"
    }
   ],
   "source": [
    "%matplotlib widget\n",
    "most_common_markers_plot(\"Most Common Markers per Dataset\", \"Number of Occurences\",\n",
    "                                data.spotify.get_most_common_markers(15),\n",
    "                                \"Spotify\", data.spotify_color,\n",
    "                                data2=data.ted.get_most_common_markers(15),\n",
    "                                label2=\"TED\", color2=data.ted_color,\n",
    "                                data3=data.ny.get_most_common_markers(15),\n",
    "                                label3=\"NYTimes\", color3=data.ny_color,\n",
    "                                data4=data.gig.get_most_common_markers(15),\n",
    "                                label4=\"Gigaword\", color4=data.gig_color)"
   ]
  },
  {
   "cell_type": "markdown",
   "metadata": {},
   "source": [
    "### Most Common in Sentene Positions"
   ]
  },
  {
   "cell_type": "code",
   "execution_count": 28,
   "metadata": {},
   "outputs": [
    {
     "data": {
      "application/vnd.jupyter.widget-view+json": {
       "model_id": "51dec843f76b4e32bf1cd08a074fd02a",
       "version_major": 2,
       "version_minor": 0
      },
      "text/plain": [
       "Canvas(toolbar=Toolbar(toolitems=[('Home', 'Reset original view', 'home', 'home'), ('Back', 'Back to previous …"
      ]
     },
     "metadata": {},
     "output_type": "display_data"
    }
   ],
   "source": [
    "most_common_markers_plot(\"Most Common Markers: Sentence Begin\", \"Share in all Markers at Sent. Begin\",\n",
    "                                data.spotify.get_most_common_markers(15, position=\"sb\", perc=True),\n",
    "                                \"Spotify\", data.spotify_color,\n",
    "                                data2=data.ny.get_most_common_markers(15, position=\"sb\", perc=True),\n",
    "                                label2=\"NYTimes\", color2=data.ny_color,\n",
    "                                data3=data.gig.get_most_common_markers(15, position=\"sb\", perc=True),\n",
    "                                label3=\"Gigaword\", color3=data.gig_color, share=True)"
   ]
  },
  {
   "cell_type": "code",
   "execution_count": 29,
   "metadata": {},
   "outputs": [
    {
     "data": {
      "application/vnd.jupyter.widget-view+json": {
       "model_id": "b76347de9ca74b7fa2fc0e869a56513c",
       "version_major": 2,
       "version_minor": 0
      },
      "text/plain": [
       "Canvas(toolbar=Toolbar(toolitems=[('Home', 'Reset original view', 'home', 'home'), ('Back', 'Back to previous …"
      ]
     },
     "metadata": {},
     "output_type": "display_data"
    }
   ],
   "source": [
    "most_common_markers_plot(\"Most Common Markers: Sentence Middle\", \"Share in all Markers at Sent. Middle\",\n",
    "                                data.spotify.get_most_common_markers(15, position=\"sm\", perc=True),\n",
    "                                \"Spotify\", data.spotify_color,\n",
    "                                data2=data.ny.get_most_common_markers(15, position=\"sm\", perc=True),\n",
    "                                label2=\"NYTimes\", color2=data.ny_color,\n",
    "                                data3=data.gig.get_most_common_markers(15, position=\"sm\", perc=True),\n",
    "                                label3=\"Gigaword\", color3=data.gig_color, share=True)"
   ]
  },
  {
   "cell_type": "code",
   "execution_count": 30,
   "metadata": {},
   "outputs": [
    {
     "data": {
      "application/vnd.jupyter.widget-view+json": {
       "model_id": "2ec26f372bad4d3bbc33ecf64e7eb3f3",
       "version_major": 2,
       "version_minor": 0
      },
      "text/plain": [
       "Canvas(toolbar=Toolbar(toolitems=[('Home', 'Reset original view', 'home', 'home'), ('Back', 'Back to previous …"
      ]
     },
     "metadata": {},
     "output_type": "display_data"
    }
   ],
   "source": [
    "most_common_markers_plot(\"Most Common Markers: Sentence End\", \"Share in all Markers at Sent. End\",\n",
    "                                data.spotify.get_most_common_markers(15, position=\"se\", perc=True),\n",
    "                                \"Spotify\", data.spotify_color,\n",
    "                                data2=data.ny.get_most_common_markers(15, position=\"se\", perc=True),\n",
    "                                label2=\"NYTimes\", color2=data.ny_color,\n",
    "                                data3=data.gig.get_most_common_markers(15, position=\"se\", perc=True),\n",
    "                                label3=\"Gigaword\", color3=data.gig_color, share=True)"
   ]
  },
  {
   "cell_type": "markdown",
   "metadata": {},
   "source": [
    "### Most Common in Document Positions"
   ]
  },
  {
   "cell_type": "code",
   "execution_count": 31,
   "metadata": {},
   "outputs": [
    {
     "data": {
      "application/vnd.jupyter.widget-view+json": {
       "model_id": "d26a1a9973cc463994d9c384fa30277f",
       "version_major": 2,
       "version_minor": 0
      },
      "text/plain": [
       "Canvas(toolbar=Toolbar(toolitems=[('Home', 'Reset original view', 'home', 'home'), ('Back', 'Back to previous …"
      ]
     },
     "metadata": {},
     "output_type": "display_data"
    }
   ],
   "source": [
    "most_common_markers_plot(\"Most Common Markers: Document Begin\", \"Share in all Markers at Doc. Begin\",\n",
    "                                data.spotify.get_most_common_markers(15, position=\"db\", perc=True),\n",
    "                                \"Spotify\", data.spotify_color,\n",
    "                                data2=data.ted.get_most_common_markers(15, position=\"db\", perc=True),\n",
    "                                label2=\"TED\", color2=data.ted_color,\n",
    "                                data3=data.ny.get_most_common_markers(15, position=\"db\", perc=True),\n",
    "                                label3=\"NYTimes\", color3=data.ny_color,\n",
    "                                data4=data.gig.get_most_common_markers(15, position=\"db\", perc=True),\n",
    "                                label4=\"Gigaword\", color4=data.gig_color, share=True)"
   ]
  },
  {
   "cell_type": "code",
   "execution_count": 25,
   "metadata": {},
   "outputs": [
    {
     "data": {
      "application/vnd.jupyter.widget-view+json": {
       "model_id": "025bdbbd496541f88876f5283458542d",
       "version_major": 2,
       "version_minor": 0
      },
      "text/plain": [
       "Canvas(toolbar=Toolbar(toolitems=[('Home', 'Reset original view', 'home', 'home'), ('Back', 'Back to previous …"
      ]
     },
     "metadata": {},
     "output_type": "display_data"
    }
   ],
   "source": [
    "most_common_markers_plot(\"Most Common Markers: Document Middle\", \"Share in all Markers at Doc. Middle\",\n",
    "                                data.spotify.get_most_common_markers(15, position=\"dm\", perc=True),\n",
    "                                \"Spotify\", data.spotify_color,\n",
    "                                data2=data.ted.get_most_common_markers(15, position=\"dm\", perc=True),\n",
    "                                label2=\"TED\", color2=data.ted_color,\n",
    "                                data3=data.ny.get_most_common_markers(15, position=\"dm\", perc=True),\n",
    "                                label3=\"NYTimes\", color3=data.ny_color,\n",
    "                                data4=data.gig.get_most_common_markers(15, position=\"dm\", perc=True),\n",
    "                                label4=\"Gigaword\", color4=data.gig_color, share=True)"
   ]
  },
  {
   "cell_type": "code",
   "execution_count": 26,
   "metadata": {},
   "outputs": [
    {
     "data": {
      "application/vnd.jupyter.widget-view+json": {
       "model_id": "6211ec0c26e94fcf83ea7ee9800c3d0b",
       "version_major": 2,
       "version_minor": 0
      },
      "text/plain": [
       "Canvas(toolbar=Toolbar(toolitems=[('Home', 'Reset original view', 'home', 'home'), ('Back', 'Back to previous …"
      ]
     },
     "metadata": {},
     "output_type": "display_data"
    }
   ],
   "source": [
    "most_common_markers_plot(\"Most Common Markers: Document End\", \"Share in all Markers at Doc. End\",\n",
    "                                data.spotify.get_most_common_markers(15, position=\"de\", perc=True),\n",
    "                                \"Spotify\", data.spotify_color,\n",
    "                                data2=data.ted.get_most_common_markers(15, position=\"de\", perc=True),\n",
    "                                label2=\"TED\", color2=data.ted_color,\n",
    "                                data3=data.ny.get_most_common_markers(15, position=\"de\", perc=True),\n",
    "                                label3=\"NYTimes\", color3=data.ny_color,\n",
    "                                data4=data.gig.get_most_common_markers(15, position=\"de\", perc=True),\n",
    "                                label4=\"Gigaword\", color4=data.gig_color, share=True)"
   ]
  },
  {
   "cell_type": "code",
   "execution_count": null,
   "metadata": {},
   "outputs": [],
   "source": []
  }
 ],
 "metadata": {
  "kernelspec": {
   "display_name": "Python 3",
   "language": "python",
   "name": "python3"
  },
  "language_info": {
   "codemirror_mode": {
    "name": "ipython",
    "version": 3
   },
   "file_extension": ".py",
   "mimetype": "text/x-python",
   "name": "python",
   "nbconvert_exporter": "python",
   "pygments_lexer": "ipython3",
   "version": "3.8.5"
  }
 },
 "nbformat": 4,
 "nbformat_minor": 4
}
